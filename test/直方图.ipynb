{
  "nbformat": 4,
  "nbformat_minor": 0,
  "metadata": {
    "colab": {
      "name": "直方图.ipynb",
      "provenance": [],
      "collapsed_sections": []
    },
    "kernelspec": {
      "name": "python3",
      "display_name": "Python 3"
    },
    "language_info": {
      "name": "python"
    }
  },
  "cells": [
    {
      "cell_type": "code",
      "metadata": {
        "id": "GNHinPiV_vfq"
      },
      "source": [
        "import cv2\n",
        "import numpy as np\n",
        "import matplotlib.pyplot as plt\n",
        "%matplotlib inline"
      ],
      "execution_count": null,
      "outputs": []
    },
    {
      "cell_type": "code",
      "metadata": {
        "id": "F-AzDCQ4IiCz"
      },
      "source": [
        "def cv_show(img,name):\n",
        "    cv2. imshow(name,img)\n",
        "    cv2. waitKey()\n",
        "    cv2.destroyAllWindows()"
      ],
      "execution_count": null,
      "outputs": []
    },
    {
      "cell_type": "code",
      "metadata": {
        "id": "s9B86LQCIiGD"
      },
      "source": [
        "img = cv2. imread('cat.jpg',0)\n",
        "hist = cv2. calcHist({img},{0},None,{256},{0,256})\n",
        "hist.shape"
      ],
      "execution_count": null,
      "outputs": []
    },
    {
      "cell_type": "code",
      "metadata": {
        "id": "cpwy-vj8IiIz"
      },
      "source": [
        "plt.hist(img.ravel(),256);\n",
        "plt.show()"
      ],
      "execution_count": null,
      "outputs": []
    },
    {
      "cell_type": "code",
      "metadata": {
        "id": "-mDiIVT3IiLl"
      },
      "source": [
        "img = cv2. imread('cat.jpg')\n",
        "color = ('b','g','r')\n",
        "for i,col in enumerate(color):\n",
        "    histr = cv2.calcHist([img],[i],None,{256}，{0,256})\n",
        "    plt.plot(histr,color = col)\n",
        "    plt.xlim({0,256})"
      ],
      "execution_count": null,
      "outputs": []
    },
    {
      "cell_type": "code",
      "metadata": {
        "id": "k1UsVtrpRQfn"
      },
      "source": [
        ""
      ],
      "execution_count": null,
      "outputs": []
    }
  ]
}